{
  "cells": [
    {
      "cell_type": "markdown",
      "metadata": {
        "id": "CtqReSQMQLp9"
      },
      "source": [
        "# Bibliotecas e funções"
      ]
    },
    {
      "cell_type": "code",
      "execution_count": 6,
      "metadata": {
        "id": "wwuUq59cPRiw"
      },
      "outputs": [],
      "source": [
        "import numpy as np\n",
        "import matplotlib.pyplot as plt\n",
        "\n",
        "from Convolution import *\n",
        "from utils import *"
      ]
    },
    {
      "cell_type": "markdown",
      "metadata": {},
      "source": [
        "# OverlapAdd"
      ]
    },
    {
      "cell_type": "code",
      "execution_count": 17,
      "metadata": {},
      "outputs": [],
      "source": [
        "x = np.random.randn(1026)\n",
        "h = np.array([1, 0, 0, 0])\n",
        "\n",
        "M = 16\n",
        "\n",
        "y = np.array([])\n",
        "\n",
        "for i in range(0, len(x), M):\n",
        "    xk = x[i:i + M]\n",
        "    if len(xk) < M:\n",
        "        xk = zero_padding(xk, M)\n",
        "    yk = myConvolution(xk, h)\n",
        "    print\n",
        "    if i == 0:\n",
        "        y = yk\n",
        "    else:\n",
        "        y = zero_padding(y, len(y) + M) + leading_zeros(yk, len(yk) + i)"
      ]
    }
  ],
  "metadata": {
    "colab": {
      "provenance": []
    },
    "kernelspec": {
      "display_name": "Python 3",
      "name": "python3"
    },
    "language_info": {
      "codemirror_mode": {
        "name": "ipython",
        "version": 3
      },
      "file_extension": ".py",
      "mimetype": "text/x-python",
      "name": "python",
      "nbconvert_exporter": "python",
      "pygments_lexer": "ipython3",
      "version": "3.13.1"
    }
  },
  "nbformat": 4,
  "nbformat_minor": 0
}
